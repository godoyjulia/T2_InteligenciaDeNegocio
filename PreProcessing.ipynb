{
 "cells": [
  {
   "cell_type": "markdown",
   "metadata": {},
   "source": [
    "## Dados\n",
    "\n",
    "Colunas que iremos usar:\n",
    "- valor do frete [varia, depende cliente]\n",
    "    - freight_value de order_items_dataset\n",
    "- tempo de entrega [varia, depende cliente]\n",
    "    - order_estimated_delivery_date - order_purchase_timestamp ambos de orders_dataset\n",
    "- quantidade de fotos publicadas daquele produto [não varia]\n",
    "    - product_photos_qty de products_dataset\n",
    "- quantidade de caracteres na descrição do produto [não varia]\n",
    "    - product_description_lenght de products_dataset\n",
    "- avaliação do cliente sobre o produto [notas distribuidas para todos os produtos, nao varia]\n",
    "    - review_score de reviews_dataset"
   ]
  },
  {
   "cell_type": "code",
   "execution_count": 1,
   "metadata": {},
   "outputs": [],
   "source": [
    "import pandas as pd\n",
    "\n",
    "df_reviews = pd.read_csv(\"Data\\olist_order_reviews_dataset.csv\")\n",
    "df_order_items = pd.read_csv(\"Data\\olist_order_items_dataset.csv\")\n",
    "df_orders = pd.read_csv(\"Data\\olist_orders_dataset.csv\")\n",
    "df_products = pd.read_csv(\"Data\\olist_products_dataset.csv\")\n",
    "df_customers = pd.read_csv(\"Data\\olist_customers_dataset.csv\")"
   ]
  },
  {
   "cell_type": "code",
   "execution_count": 2,
   "metadata": {},
   "outputs": [],
   "source": [
    "# juntando em 1 dataframe\n",
    "df = pd.DataFrame(columns=['id_produto', 'regiao', 'frete', 'tempo_entrega', 'qtd_vendida', 'avaliacao', 'qtd_fotos', 'tam_desc', 'categoria'])"
   ]
  },
  {
   "cell_type": "code",
   "execution_count": 3,
   "metadata": {},
   "outputs": [
    {
     "name": "stdout",
     "output_type": "stream",
     "text": [
      "qtd_pedidos: 99441, qtd_avaliacoes: 100000\n",
      "Total de avaliacoes repetidas: 559, \n",
      "Total de pedidos com avaliacoes: 99441\n"
     ]
    }
   ],
   "source": [
    "qtd_pedidos = len(df_orders) \n",
    "qtd_avaliacoes = len(df_reviews)\n",
    "print(\"qtd_pedidos: %d, qtd_avaliacoes: %d\" % (qtd_pedidos, qtd_avaliacoes))\n",
    "\n",
    "\n",
    "# verificando df_reviews\n",
    "orderIds =[]\n",
    "orderIdRepetido = []\n",
    "for index, row in df_reviews.iterrows():\n",
    "    oID = row['order_id']\n",
    "    if oID not in orderIds:\n",
    "        orderIds.append(oID)\n",
    "    else:\n",
    "        orderIdRepetido.append(oID)\n",
    "\n",
    "print('Total de avaliacoes repetidas: %d, \\nTotal de pedidos com avaliacoes: %d' % (len(orderIdRepetido), len(orderIds)))\n",
    "\n",
    "# Conclusão: todos pedidos tem pelo menos uma avaliacao"
   ]
  },
  {
   "cell_type": "code",
   "execution_count": 4,
   "metadata": {},
   "outputs": [],
   "source": [
    "orderId_productId = {} # dicionario: chave = order_id, valor = product_id(tupla)\n",
    "\n",
    "for index, row in df_order_items.iterrows():\n",
    "    if row['order_id'] not in orderId_productId:\n",
    "        orderId_productId.update({row['order_id']: (row['product_id'],)})\n",
    "    else:\n",
    "        values = orderId_productId.get(row['order_id'])\n",
    "        orderId_productId.update({row['order_id']:values+(row['product_id'],)})"
   ]
  },
  {
   "cell_type": "code",
   "execution_count": 5,
   "metadata": {},
   "outputs": [],
   "source": [
    "regiao = {'Sul': ['RS', 'SC', 'PR'], 'Sudeste': ['SP', 'RJ', 'MG', 'ES'], 'Nordeste': ['BA', 'PI', 'MA', 'CE', 'RN', 'PB', 'PE', 'AL', 'SE'], 'Norte': ['TO', 'PA', 'AP', 'RR', 'AM', 'AC', 'RO'], 'Centro-Oeste': ['MT', 'GO', 'MD', 'DF']}\n",
    "\n",
    "# preenchendo df\n",
    "# todos os produtos - regiao sul\n",
    "# todos os produtos - regiao sudestes\n",
    "# ...\n",
    "idx = 0\n",
    "for r in regiao.keys():\n",
    "    for index, row in df_products.iterrows():\n",
    "        df.loc[idx, 'id_produto'] = row['product_id']\n",
    "        df.loc[idx, 'regiao'] = r\n",
    "        idx+=1"
   ]
  },
  {
   "cell_type": "code",
   "execution_count": 6,
   "metadata": {},
   "outputs": [
    {
     "name": "stdout",
     "output_type": "stream",
     "text": [
      "164755\n"
     ]
    },
    {
     "data": {
      "text/html": [
       "<div>\n",
       "<style scoped>\n",
       "    .dataframe tbody tr th:only-of-type {\n",
       "        vertical-align: middle;\n",
       "    }\n",
       "\n",
       "    .dataframe tbody tr th {\n",
       "        vertical-align: top;\n",
       "    }\n",
       "\n",
       "    .dataframe thead th {\n",
       "        text-align: right;\n",
       "    }\n",
       "</style>\n",
       "<table border=\"1\" class=\"dataframe\">\n",
       "  <thead>\n",
       "    <tr style=\"text-align: right;\">\n",
       "      <th></th>\n",
       "      <th>id_produto</th>\n",
       "      <th>regiao</th>\n",
       "      <th>frete</th>\n",
       "      <th>tempo_entrega</th>\n",
       "      <th>qtd_vendida</th>\n",
       "      <th>avaliacao</th>\n",
       "      <th>qtd_fotos</th>\n",
       "      <th>tam_desc</th>\n",
       "      <th>categoria</th>\n",
       "    </tr>\n",
       "  </thead>\n",
       "  <tbody>\n",
       "    <tr>\n",
       "      <th>0</th>\n",
       "      <td>1e9e8ef04dbcff4541ed26657ea517e5</td>\n",
       "      <td>Sul</td>\n",
       "      <td>NaN</td>\n",
       "      <td>NaN</td>\n",
       "      <td>NaN</td>\n",
       "      <td>NaN</td>\n",
       "      <td>NaN</td>\n",
       "      <td>NaN</td>\n",
       "      <td>NaN</td>\n",
       "    </tr>\n",
       "    <tr>\n",
       "      <th>1</th>\n",
       "      <td>3aa071139cb16b67ca9e5dea641aaa2f</td>\n",
       "      <td>Sul</td>\n",
       "      <td>NaN</td>\n",
       "      <td>NaN</td>\n",
       "      <td>NaN</td>\n",
       "      <td>NaN</td>\n",
       "      <td>NaN</td>\n",
       "      <td>NaN</td>\n",
       "      <td>NaN</td>\n",
       "    </tr>\n",
       "    <tr>\n",
       "      <th>2</th>\n",
       "      <td>96bd76ec8810374ed1b65e291975717f</td>\n",
       "      <td>Sul</td>\n",
       "      <td>NaN</td>\n",
       "      <td>NaN</td>\n",
       "      <td>NaN</td>\n",
       "      <td>NaN</td>\n",
       "      <td>NaN</td>\n",
       "      <td>NaN</td>\n",
       "      <td>NaN</td>\n",
       "    </tr>\n",
       "    <tr>\n",
       "      <th>3</th>\n",
       "      <td>cef67bcfe19066a932b7673e239eb23d</td>\n",
       "      <td>Sul</td>\n",
       "      <td>NaN</td>\n",
       "      <td>NaN</td>\n",
       "      <td>NaN</td>\n",
       "      <td>NaN</td>\n",
       "      <td>NaN</td>\n",
       "      <td>NaN</td>\n",
       "      <td>NaN</td>\n",
       "    </tr>\n",
       "    <tr>\n",
       "      <th>4</th>\n",
       "      <td>9dc1a7de274444849c219cff195d0b71</td>\n",
       "      <td>Sul</td>\n",
       "      <td>NaN</td>\n",
       "      <td>NaN</td>\n",
       "      <td>NaN</td>\n",
       "      <td>NaN</td>\n",
       "      <td>NaN</td>\n",
       "      <td>NaN</td>\n",
       "      <td>NaN</td>\n",
       "    </tr>\n",
       "    <tr>\n",
       "      <th>...</th>\n",
       "      <td>...</td>\n",
       "      <td>...</td>\n",
       "      <td>...</td>\n",
       "      <td>...</td>\n",
       "      <td>...</td>\n",
       "      <td>...</td>\n",
       "      <td>...</td>\n",
       "      <td>...</td>\n",
       "      <td>...</td>\n",
       "    </tr>\n",
       "    <tr>\n",
       "      <th>164750</th>\n",
       "      <td>a0b7d5a992ccda646f2d34e418fff5a0</td>\n",
       "      <td>Centro-Oeste</td>\n",
       "      <td>NaN</td>\n",
       "      <td>NaN</td>\n",
       "      <td>NaN</td>\n",
       "      <td>NaN</td>\n",
       "      <td>NaN</td>\n",
       "      <td>NaN</td>\n",
       "      <td>NaN</td>\n",
       "    </tr>\n",
       "    <tr>\n",
       "      <th>164751</th>\n",
       "      <td>bf4538d88321d0fd4412a93c974510e6</td>\n",
       "      <td>Centro-Oeste</td>\n",
       "      <td>NaN</td>\n",
       "      <td>NaN</td>\n",
       "      <td>NaN</td>\n",
       "      <td>NaN</td>\n",
       "      <td>NaN</td>\n",
       "      <td>NaN</td>\n",
       "      <td>NaN</td>\n",
       "    </tr>\n",
       "    <tr>\n",
       "      <th>164752</th>\n",
       "      <td>9a7c6041fa9592d9d9ef6cfe62a71f8c</td>\n",
       "      <td>Centro-Oeste</td>\n",
       "      <td>NaN</td>\n",
       "      <td>NaN</td>\n",
       "      <td>NaN</td>\n",
       "      <td>NaN</td>\n",
       "      <td>NaN</td>\n",
       "      <td>NaN</td>\n",
       "      <td>NaN</td>\n",
       "    </tr>\n",
       "    <tr>\n",
       "      <th>164753</th>\n",
       "      <td>83808703fc0706a22e264b9d75f04a2e</td>\n",
       "      <td>Centro-Oeste</td>\n",
       "      <td>NaN</td>\n",
       "      <td>NaN</td>\n",
       "      <td>NaN</td>\n",
       "      <td>NaN</td>\n",
       "      <td>NaN</td>\n",
       "      <td>NaN</td>\n",
       "      <td>NaN</td>\n",
       "    </tr>\n",
       "    <tr>\n",
       "      <th>164754</th>\n",
       "      <td>106392145fca363410d287a815be6de4</td>\n",
       "      <td>Centro-Oeste</td>\n",
       "      <td>NaN</td>\n",
       "      <td>NaN</td>\n",
       "      <td>NaN</td>\n",
       "      <td>NaN</td>\n",
       "      <td>NaN</td>\n",
       "      <td>NaN</td>\n",
       "      <td>NaN</td>\n",
       "    </tr>\n",
       "  </tbody>\n",
       "</table>\n",
       "<p>164755 rows × 9 columns</p>\n",
       "</div>"
      ],
      "text/plain": [
       "                              id_produto        regiao frete tempo_entrega  \\\n",
       "0       1e9e8ef04dbcff4541ed26657ea517e5           Sul   NaN           NaN   \n",
       "1       3aa071139cb16b67ca9e5dea641aaa2f           Sul   NaN           NaN   \n",
       "2       96bd76ec8810374ed1b65e291975717f           Sul   NaN           NaN   \n",
       "3       cef67bcfe19066a932b7673e239eb23d           Sul   NaN           NaN   \n",
       "4       9dc1a7de274444849c219cff195d0b71           Sul   NaN           NaN   \n",
       "...                                  ...           ...   ...           ...   \n",
       "164750  a0b7d5a992ccda646f2d34e418fff5a0  Centro-Oeste   NaN           NaN   \n",
       "164751  bf4538d88321d0fd4412a93c974510e6  Centro-Oeste   NaN           NaN   \n",
       "164752  9a7c6041fa9592d9d9ef6cfe62a71f8c  Centro-Oeste   NaN           NaN   \n",
       "164753  83808703fc0706a22e264b9d75f04a2e  Centro-Oeste   NaN           NaN   \n",
       "164754  106392145fca363410d287a815be6de4  Centro-Oeste   NaN           NaN   \n",
       "\n",
       "       qtd_vendida avaliacao qtd_fotos tam_desc categoria  \n",
       "0              NaN       NaN       NaN      NaN       NaN  \n",
       "1              NaN       NaN       NaN      NaN       NaN  \n",
       "2              NaN       NaN       NaN      NaN       NaN  \n",
       "3              NaN       NaN       NaN      NaN       NaN  \n",
       "4              NaN       NaN       NaN      NaN       NaN  \n",
       "...            ...       ...       ...      ...       ...  \n",
       "164750         NaN       NaN       NaN      NaN       NaN  \n",
       "164751         NaN       NaN       NaN      NaN       NaN  \n",
       "164752         NaN       NaN       NaN      NaN       NaN  \n",
       "164753         NaN       NaN       NaN      NaN       NaN  \n",
       "164754         NaN       NaN       NaN      NaN       NaN  \n",
       "\n",
       "[164755 rows x 9 columns]"
      ]
     },
     "execution_count": 6,
     "metadata": {},
     "output_type": "execute_result"
    }
   ],
   "source": [
    "print(len(df_products)*5)\n",
    "df"
   ]
  },
  {
   "cell_type": "code",
   "execution_count": 7,
   "metadata": {},
   "outputs": [],
   "source": [
    "orderID_customerID = {} # dicionario: chave = order_id, valor = customer_id\n",
    "for index, row in df_orders.iterrows():\n",
    "    orderID_customerID.update({row['order_id']: row['customer_id']})\n",
    "\n",
    "orderID_customerID = {} # dicionario: chave = order_id, valor = customer_id\n",
    "for index, row in df_orders.iterrows():\n",
    "    orderID_customerID.update({row['order_id']: row['customer_id']})\n",
    "\n",
    "customerID_regiao = {} # dicionario: chave = customer_id, valor = regiao\n",
    "for index, row in df_customers.iterrows():\n",
    "    for r, e in regiao.items(): \n",
    "        if row['customer_state'] in e: \n",
    "            customerID_regiao.update({row['customer_id']: r})\n",
    "    \n",
    "orderID_regiao = {} # dicionario: chave = order_id, valor = regiao\n",
    "for oID, cID in orderID_customerID.items():\n",
    "    r = customerID_regiao.get(cID)\n",
    "    orderID_regiao.update({oID: r})"
   ]
  },
  {
   "cell_type": "code",
   "execution_count": 8,
   "metadata": {},
   "outputs": [],
   "source": [
    "productId_ordersID = {} # dicionario: chave = id_produto, valor = (id_pedidos)\n",
    "for index, row in df_products.iterrows():\n",
    "    prodID = row['product_id'] \n",
    "    for pedID, tProd in orderId_productId.items(): \n",
    "        if prodID in tProd:\n",
    "            if prodID not in productId_ordersID:\n",
    "                productId_ordersID.update({prodID: (pedID,)})\n",
    "            else:\n",
    "                values = productId_ordersID.get(prodID)\n",
    "                productId_ordersID.update({prodID:values+(pedID,)})"
   ]
  },
  {
   "cell_type": "code",
   "execution_count": 9,
   "metadata": {},
   "outputs": [],
   "source": [
    "orderIDproductID_fretes = {} #dicionario: chave (id_pedido, id_produto), valor = (frete)\n",
    "\n",
    "for index, row, in df_order_items.iterrows():\n",
    "    chave = (row['order_id'], row['product_id'])\n",
    "    if chave not in orderIDproductID_fretes:\n",
    "        orderIDproductID_fretes.update({chave: (row['freight_value'],)})\n",
    "    else:\n",
    "        values = orderIDproductID_fretes.get(chave)\n",
    "        orderIDproductID_fretes.update({chave:values+(row['freight_value'],)})\n",
    "\n",
    "orderIDproductID_freteMedia = {}  #dicionario: chave (id_pedido, id_produto), valor = media do frete\n",
    "for pedIDprodID, fretes in orderIDproductID_fretes.items():\n",
    "    media = sum(fretes)/len(fretes)\n",
    "    orderIDproductID_freteMedia.update({pedIDprodID: media})"
   ]
  },
  {
   "cell_type": "code",
   "execution_count": 11,
   "metadata": {},
   "outputs": [
    {
     "name": "stderr",
     "output_type": "stream",
     "text": [
      "C:\\Users\\leuze\\anaconda3\\lib\\site-packages\\numpy\\core\\fromnumeric.py:3372: RuntimeWarning: Mean of empty slice.\n",
      "  return _methods._mean(a, axis=axis, dtype=dtype,\n",
      "C:\\Users\\leuze\\anaconda3\\lib\\site-packages\\numpy\\core\\_methods.py:170: RuntimeWarning: invalid value encountered in double_scalars\n",
      "  ret = ret.dtype.type(ret / rcount)\n"
     ]
    }
   ],
   "source": [
    "# frete por regiao\n",
    "import numpy as np\n",
    "\n",
    "productID_frete_SUL      = {} #dicionario: chave = id_produto, valor = media do frete\n",
    "productID_frete_SUDESTE  = {}\n",
    "productID_frete_NORDESTE = {}\n",
    "productID_frete_NORTE    = {}\n",
    "productID_frete_CO       = {}\n",
    "\n",
    "for index, row in df_products.iterrows():\n",
    "    prodID = row['product_id']\n",
    "    pedIDS = productId_ordersID.get(prodID) #tupla com id de pedidos desse produto\n",
    "    \n",
    "    # listas com id de pedidos de cada regiao\n",
    "    pedIDS_SUL, pedIDS_SUDESTE, pedIDS_NORDESTE, pedIDS_NORTE, pedIDS_CO = [], [], [], [], []\n",
    "    for p in pedIDS:\n",
    "        if orderID_regiao.get(p) == 'Sul': pedIDS_SUL.append(p)\n",
    "        if orderID_regiao.get(p) == 'Sudeste': pedIDS_SUDESTE.append(p)\n",
    "        if orderID_regiao.get(p) == 'Nordeste': pedIDS_NORDESTE.append(p)\n",
    "        if orderID_regiao.get(p) == 'Norte': pedIDS_NORTE.append(p)\n",
    "        if orderID_regiao.get(p) == 'Centro-Oeste': pedIDS_CO.append(p)\n",
    "\n",
    "    # listas com os valores de frete para produtos de pedidos de cada regiao\n",
    "    f_SUL, f_SUDESTE, f_NORDESTE, f_NORTE, f_CO = [], [], [], [], []\n",
    "    for p in pedIDS_SUL: f_SUL.append(orderIDproductID_freteMedia.get((p, prodID)))\n",
    "    for p in pedIDS_SUDESTE: f_SUDESTE.append(orderIDproductID_freteMedia.get((p, prodID)))\n",
    "    for p in pedIDS_NORDESTE: f_NORDESTE.append(orderIDproductID_freteMedia.get((p, prodID)))\n",
    "    for p in pedIDS_NORTE: f_NORTE.append(orderIDproductID_freteMedia.get((p, prodID)))\n",
    "    for p in pedIDS_CO: f_CO.append(orderIDproductID_freteMedia.get((p, prodID)))\n",
    "        \n",
    "    # atualizando o dicionario com a média do valor de frete para tal produto em tal regiao\n",
    "    productID_frete_SUL.update({prodID: np.mean(f_SUL)})\n",
    "    productID_frete_SUDESTE.update({prodID: np.mean(f_SUDESTE)})\n",
    "    productID_frete_NORDESTE.update({prodID: np.mean(f_NORDESTE)})\n",
    "    productID_frete_NORTE.update({prodID: np.mean(f_NORTE)})\n",
    "    productID_frete_CO.update({prodID: np.mean(f_CO)})\n"
   ]
  },
  {
   "cell_type": "code",
   "execution_count": 12,
   "metadata": {},
   "outputs": [],
   "source": [
    "# preenche a coluna frete da tabela de acordo com a media de frete de tal produto em tal regiao\n",
    "idx = 0\n",
    "for r in regiao.keys():\n",
    "        for index, row in df_products.iterrows():\n",
    "            prodID = row['product_id']\n",
    "            if r == 'Sul':          df.loc[idx, 'frete'] = productID_frete_SUL.get(prodID)\n",
    "            if r == 'Sudeste':      df.loc[idx, 'frete'] = productID_frete_SUDESTE.get(prodID)\n",
    "            if r == 'Nordeste':     df.loc[idx, 'frete'] = productID_frete_NORDESTE.get(prodID)\n",
    "            if r == 'Norte':        df.loc[idx, 'frete'] = productID_frete_NORTE.get(prodID)\n",
    "            if r == 'Centro-Oeste': df.loc[idx, 'frete'] = productID_frete_CO.get(prodID)\n",
    "            idx+=1"
   ]
  },
  {
   "cell_type": "code",
   "execution_count": 13,
   "metadata": {},
   "outputs": [],
   "source": [
    "import datetime\n",
    "\n",
    "# funcao que calcula a diferenca entre 2 datas:\n",
    "# data em que cliente comprou e data estimada de entrega mostrada p cliente qnd ele comprou \n",
    "# resultado da diferenca eh retornado em dias\n",
    "def tempoEntregaEstimado(date1, date2):\n",
    "    date1 = date1.split(' ')[0]\n",
    "    date1Vet = date1.split('-')\n",
    "    date2 = date2.split(' ')[0]\n",
    "    date2Vet = date2.split('-')\n",
    "\n",
    "    # datetime(year, month, day, hour, minute, second)\n",
    "    d1 = datetime.datetime(int(date1Vet[0]), int(date1Vet[1]), int(date1Vet[2]))\n",
    "    d2 = datetime.datetime(int(date2Vet[0]), int(date2Vet[1]), int(date2Vet[2]))\n",
    "    diferenca = abs(d1-d2) \n",
    "    \n",
    "    return diferenca.days"
   ]
  },
  {
   "cell_type": "code",
   "execution_count": 14,
   "metadata": {},
   "outputs": [],
   "source": [
    "orderIDcustomerID_tempo = {} #dicionario: chave (id_pedido, id_cliente), valor = (tempo)\n",
    "for index, row, in df_orders.iterrows():\n",
    "    chave = (row['order_id'], row['customer_id'])\n",
    "    tempoEstimado = tempoEntregaEstimado(row['order_estimated_delivery_date'], row['order_estimated_delivery_date'])\n",
    "    if chave not in orderIDcustomerID_tempo:\n",
    "        orderIDcustomerID_tempo.update({chave: (tempoEstimado,)})\n",
    "    else:\n",
    "        values = orderIDcustomerID_tempo.get(chave)\n",
    "        orderIDcustomerID_tempo.update({chave:values+(tempoEstimado,)})\n",
    "\n",
    "orderIDcustomerID_tempoMedia = {}  #dicionario: chave (id_pedido, id_cliente), valor = media do tempo\n",
    "for pedIDcliID, tempos in orderIDcustomerID_tempo.items():\n",
    "    media = sum(tempos)/len(tempos)\n",
    "    orderIDcustomerID_tempoMedia.update({pedIDcliID: media})"
   ]
  },
  {
   "cell_type": "code",
   "execution_count": 15,
   "metadata": {},
   "outputs": [],
   "source": [
    "# estimativa de tempo de entrega por regiao\n",
    "import numpy as np\n",
    "\n",
    "productID_tempo_SUL      = {} #dicionario: chave = id_produto, valor = media do tempo\n",
    "productID_tempo_SUDESTE  = {}\n",
    "productID_tempo_NORDESTE = {}\n",
    "productID_tempo_NORTE    = {}\n",
    "productID_tempo_CO       = {}\n",
    "for index, row in df_products.iterrows():\n",
    "    prodID = row['product_id']\n",
    "    pedIDS = productId_ordersID.get(prodID) #tupla com id de pedidos desse produto\n",
    "    \n",
    "    # listas com ids de pedidos de cada regiao para tal produto\n",
    "    pedIDS_SUL, pedIDS_SUDESTE, pedIDS_NORDESTE, pedIDS_NORTE, pedIDS_CO = [], [], [], [], []\n",
    "    for p in pedIDS:\n",
    "        if orderID_regiao.get(p) == 'Sul': pedIDS_SUL.append(p)\n",
    "        if orderID_regiao.get(p) == 'Sudeste': pedIDS_SUDESTE.append(p)\n",
    "        if orderID_regiao.get(p) == 'Nordeste': pedIDS_NORDESTE.append(p)\n",
    "        if orderID_regiao.get(p) == 'Norte': pedIDS_NORTE.append(p)\n",
    "        if orderID_regiao.get(p) == 'Centro-Oeste': pedIDS_CO.append(p)\n",
    "\n",
    "    # listas com as estimativas de entrega dos produtos em cada regiao\n",
    "    tempo_SUL, tempo_SUDESTE, tempo_NORDESTE, tempo_NORTE, tempo_CO = [], [], [], [], []\n",
    "    for p in pedIDS_SUL: \n",
    "        cliID = orderID_customerID.get(p)\n",
    "        tempo_SUL.append(orderIDcustomerID_tempoMedia.get((p, cliID)))\n",
    "    for p in pedIDS_SUDESTE: \n",
    "        cliID = orderID_customerID.get(p)\n",
    "        tempo_SUDESTE.append(orderIDcustomerID_tempoMedia.get((p, cliID)))\n",
    "    for p in pedIDS_NORDESTE: \n",
    "        cliID = orderID_customerID.get(p)\n",
    "        tempo_NORDESTE.append(orderIDcustomerID_tempoMedia.get((p, cliID)))\n",
    "    for p in pedIDS_NORTE: \n",
    "        cliID = orderID_customerID.get(p)\n",
    "        tempo_NORTE.append(orderIDcustomerID_tempoMedia.get((p, cliID)))\n",
    "    for p in pedIDS_CO: \n",
    "        cliID = orderID_customerID.get(p)\n",
    "        tempo_CO.append(orderIDcustomerID_tempoMedia.get((p, cliID)))\n",
    "        \n",
    "    # atualizando os dicionarios com a media de tempos de entrega para cada regiao\n",
    "    productID_tempo_SUL.update({prodID: np.mean(tempo_SUL)})\n",
    "    productID_tempo_SUDESTE.update({prodID: np.mean(tempo_SUDESTE)})\n",
    "    productID_tempo_NORDESTE.update({prodID: np.mean(tempo_NORDESTE)})\n",
    "    productID_tempo_NORTE.update({prodID: np.mean(tempo_NORTE)})\n",
    "    productID_tempo_CO.update({prodID: np.mean(tempo_CO)})\n",
    "\n"
   ]
  },
  {
   "cell_type": "code",
   "execution_count": 16,
   "metadata": {},
   "outputs": [],
   "source": [
    "# preenche a coluna tempo_entrega da tabela de acordo com a media de tempo de tal produto em tal regiao\n",
    "idx = 0\n",
    "for r in regiao.keys():\n",
    "        for index, row in df_products.iterrows():\n",
    "            prodID = row['product_id']\n",
    "            if r == 'Sul':          df.loc[idx, 'tempo_entrega'] = productID_tempo_SUL.get(prodID)\n",
    "            if r == 'Sudeste':      df.loc[idx, 'tempo_entrega'] = productID_tempo_SUDESTE.get(prodID)\n",
    "            if r == 'Nordeste':     df.loc[idx, 'tempo_entrega'] = productID_tempo_NORDESTE.get(prodID)\n",
    "            if r == 'Norte':        df.loc[idx, 'tempo_entrega'] = productID_tempo_NORTE.get(prodID)\n",
    "            if r == 'Centro-Oeste': df.loc[idx, 'tempo_entrega'] = productID_tempo_CO.get(prodID)\n",
    "            idx+=1"
   ]
  },
  {
   "cell_type": "code",
   "execution_count": 18,
   "metadata": {},
   "outputs": [],
   "source": [
    "# colunas de df que independem da regiao, serão replicada me blocos na tabela\n",
    "from collections import Counter\n",
    "# qtd_vendida\n",
    "productID_vendidos = Counter(df_order_items['product_id']) # dicionario: chave = id_produto, valor = qtd de vendidos\n",
    "\n",
    "# avaliacao\n",
    "productId_reviewScore = {} # dicionario: chave = product_id, valor = media da avaliacao\n",
    "for order in orderIds:\n",
    "    scores = df_reviews.loc[df_reviews['order_id'] == order]['review_score']\n",
    "    soma = 0\n",
    "    for valor in scores: soma += valor\n",
    "    media = soma / len(scores) # media das avaliacoes do pedido\n",
    "    produtos = orderId_productId.get(order)\n",
    "    if produtos != None: #tem um pedido que nao tem produtos associados\n",
    "        for p in produtos:\n",
    "            if p not in productId_reviewScore:\n",
    "                productId_reviewScore.update({p: media})\n",
    "            else:\n",
    "                anterior = productId_reviewScore.get(p)\n",
    "                productId_reviewScore.update({p: (anterior+media)/2})\n",
    "\n",
    "# qtd_fotos\n",
    "productID_fotos = {} # dicionario: chave = id_produto, valor = qtd de fotos\n",
    "# tam_desc\n",
    "productID_descricao = {} # dicionario: chave = id_produto, valor = tamanho da descricao\n",
    "# categoria\n",
    "productID_categoria = {} # dicionario: chave = id_produto, valor = categoria\n",
    "for index, row in df_products.iterrows():\n",
    "    prodID = row['product_id']\n",
    "    productID_fotos.update({prodID: row['product_photos_qty']})\n",
    "    productID_descricao.update({prodID: row['product_description_lenght']})\n",
    "    productID_categoria.update({prodID: row['product_category_name']})"
   ]
  },
  {
   "cell_type": "code",
   "execution_count": 19,
   "metadata": {},
   "outputs": [],
   "source": [
    "# preenche as colunas qtd_vendida, avaliacao, qtd_fotos, tam_desc, categoria tabela de acordo com os dados do produto \n",
    "idx = 0\n",
    "for r in regiao.keys():\n",
    "        for index, row in df_products.iterrows():\n",
    "            prodID = row['product_id']\n",
    "            df.loc[idx, 'qtd_vendida'] = productID_vendidos.get(prodID)\n",
    "            df.loc[idx, 'avaliacao']   = productId_reviewScore.get(prodID)\n",
    "            df.loc[idx, 'qtd_fotos']   = productID_fotos.get(prodID)\n",
    "            df.loc[idx, 'tam_desc']    = productID_descricao.get(prodID)\n",
    "            df.loc[idx, 'categoria']   = productID_categoria.get(prodID)\n",
    "            idx+=1"
   ]
  },
  {
   "cell_type": "code",
   "execution_count": 20,
   "metadata": {},
   "outputs": [
    {
     "data": {
      "text/html": [
       "<div>\n",
       "<style scoped>\n",
       "    .dataframe tbody tr th:only-of-type {\n",
       "        vertical-align: middle;\n",
       "    }\n",
       "\n",
       "    .dataframe tbody tr th {\n",
       "        vertical-align: top;\n",
       "    }\n",
       "\n",
       "    .dataframe thead th {\n",
       "        text-align: right;\n",
       "    }\n",
       "</style>\n",
       "<table border=\"1\" class=\"dataframe\">\n",
       "  <thead>\n",
       "    <tr style=\"text-align: right;\">\n",
       "      <th></th>\n",
       "      <th>id_produto</th>\n",
       "      <th>regiao</th>\n",
       "      <th>frete</th>\n",
       "      <th>tempo_entrega</th>\n",
       "      <th>qtd_vendida</th>\n",
       "      <th>avaliacao</th>\n",
       "      <th>qtd_fotos</th>\n",
       "      <th>tam_desc</th>\n",
       "      <th>categoria</th>\n",
       "    </tr>\n",
       "  </thead>\n",
       "  <tbody>\n",
       "    <tr>\n",
       "      <th>0</th>\n",
       "      <td>1e9e8ef04dbcff4541ed26657ea517e5</td>\n",
       "      <td>Sul</td>\n",
       "      <td>NaN</td>\n",
       "      <td>NaN</td>\n",
       "      <td>1</td>\n",
       "      <td>5</td>\n",
       "      <td>1</td>\n",
       "      <td>287</td>\n",
       "      <td>perfumaria</td>\n",
       "    </tr>\n",
       "    <tr>\n",
       "      <th>1</th>\n",
       "      <td>3aa071139cb16b67ca9e5dea641aaa2f</td>\n",
       "      <td>Sul</td>\n",
       "      <td>NaN</td>\n",
       "      <td>NaN</td>\n",
       "      <td>1</td>\n",
       "      <td>5</td>\n",
       "      <td>1</td>\n",
       "      <td>276</td>\n",
       "      <td>artes</td>\n",
       "    </tr>\n",
       "    <tr>\n",
       "      <th>2</th>\n",
       "      <td>96bd76ec8810374ed1b65e291975717f</td>\n",
       "      <td>Sul</td>\n",
       "      <td>NaN</td>\n",
       "      <td>NaN</td>\n",
       "      <td>1</td>\n",
       "      <td>5</td>\n",
       "      <td>1</td>\n",
       "      <td>250</td>\n",
       "      <td>esporte_lazer</td>\n",
       "    </tr>\n",
       "    <tr>\n",
       "      <th>3</th>\n",
       "      <td>cef67bcfe19066a932b7673e239eb23d</td>\n",
       "      <td>Sul</td>\n",
       "      <td>NaN</td>\n",
       "      <td>NaN</td>\n",
       "      <td>1</td>\n",
       "      <td>1</td>\n",
       "      <td>1</td>\n",
       "      <td>261</td>\n",
       "      <td>bebes</td>\n",
       "    </tr>\n",
       "    <tr>\n",
       "      <th>4</th>\n",
       "      <td>9dc1a7de274444849c219cff195d0b71</td>\n",
       "      <td>Sul</td>\n",
       "      <td>NaN</td>\n",
       "      <td>NaN</td>\n",
       "      <td>1</td>\n",
       "      <td>5</td>\n",
       "      <td>4</td>\n",
       "      <td>402</td>\n",
       "      <td>utilidades_domesticas</td>\n",
       "    </tr>\n",
       "    <tr>\n",
       "      <th>...</th>\n",
       "      <td>...</td>\n",
       "      <td>...</td>\n",
       "      <td>...</td>\n",
       "      <td>...</td>\n",
       "      <td>...</td>\n",
       "      <td>...</td>\n",
       "      <td>...</td>\n",
       "      <td>...</td>\n",
       "      <td>...</td>\n",
       "    </tr>\n",
       "    <tr>\n",
       "      <th>164750</th>\n",
       "      <td>a0b7d5a992ccda646f2d34e418fff5a0</td>\n",
       "      <td>Centro-Oeste</td>\n",
       "      <td>NaN</td>\n",
       "      <td>NaN</td>\n",
       "      <td>33</td>\n",
       "      <td>3.22363</td>\n",
       "      <td>2</td>\n",
       "      <td>67</td>\n",
       "      <td>moveis_decoracao</td>\n",
       "    </tr>\n",
       "    <tr>\n",
       "      <th>164751</th>\n",
       "      <td>bf4538d88321d0fd4412a93c974510e6</td>\n",
       "      <td>Centro-Oeste</td>\n",
       "      <td>NaN</td>\n",
       "      <td>NaN</td>\n",
       "      <td>2</td>\n",
       "      <td>4.5</td>\n",
       "      <td>1</td>\n",
       "      <td>971</td>\n",
       "      <td>construcao_ferramentas_iluminacao</td>\n",
       "    </tr>\n",
       "    <tr>\n",
       "      <th>164752</th>\n",
       "      <td>9a7c6041fa9592d9d9ef6cfe62a71f8c</td>\n",
       "      <td>Centro-Oeste</td>\n",
       "      <td>NaN</td>\n",
       "      <td>NaN</td>\n",
       "      <td>5</td>\n",
       "      <td>4.4375</td>\n",
       "      <td>1</td>\n",
       "      <td>799</td>\n",
       "      <td>cama_mesa_banho</td>\n",
       "    </tr>\n",
       "    <tr>\n",
       "      <th>164753</th>\n",
       "      <td>83808703fc0706a22e264b9d75f04a2e</td>\n",
       "      <td>Centro-Oeste</td>\n",
       "      <td>NaN</td>\n",
       "      <td>NaN</td>\n",
       "      <td>7</td>\n",
       "      <td>4.96875</td>\n",
       "      <td>2</td>\n",
       "      <td>156</td>\n",
       "      <td>informatica_acessorios</td>\n",
       "    </tr>\n",
       "    <tr>\n",
       "      <th>164754</th>\n",
       "      <td>106392145fca363410d287a815be6de4</td>\n",
       "      <td>Centro-Oeste</td>\n",
       "      <td>NaN</td>\n",
       "      <td>NaN</td>\n",
       "      <td>1</td>\n",
       "      <td>5</td>\n",
       "      <td>1</td>\n",
       "      <td>309</td>\n",
       "      <td>cama_mesa_banho</td>\n",
       "    </tr>\n",
       "  </tbody>\n",
       "</table>\n",
       "<p>164755 rows × 9 columns</p>\n",
       "</div>"
      ],
      "text/plain": [
       "                              id_produto        regiao frete tempo_entrega  \\\n",
       "0       1e9e8ef04dbcff4541ed26657ea517e5           Sul   NaN           NaN   \n",
       "1       3aa071139cb16b67ca9e5dea641aaa2f           Sul   NaN           NaN   \n",
       "2       96bd76ec8810374ed1b65e291975717f           Sul   NaN           NaN   \n",
       "3       cef67bcfe19066a932b7673e239eb23d           Sul   NaN           NaN   \n",
       "4       9dc1a7de274444849c219cff195d0b71           Sul   NaN           NaN   \n",
       "...                                  ...           ...   ...           ...   \n",
       "164750  a0b7d5a992ccda646f2d34e418fff5a0  Centro-Oeste   NaN           NaN   \n",
       "164751  bf4538d88321d0fd4412a93c974510e6  Centro-Oeste   NaN           NaN   \n",
       "164752  9a7c6041fa9592d9d9ef6cfe62a71f8c  Centro-Oeste   NaN           NaN   \n",
       "164753  83808703fc0706a22e264b9d75f04a2e  Centro-Oeste   NaN           NaN   \n",
       "164754  106392145fca363410d287a815be6de4  Centro-Oeste   NaN           NaN   \n",
       "\n",
       "       qtd_vendida avaliacao qtd_fotos tam_desc  \\\n",
       "0                1         5         1      287   \n",
       "1                1         5         1      276   \n",
       "2                1         5         1      250   \n",
       "3                1         1         1      261   \n",
       "4                1         5         4      402   \n",
       "...            ...       ...       ...      ...   \n",
       "164750          33   3.22363         2       67   \n",
       "164751           2       4.5         1      971   \n",
       "164752           5    4.4375         1      799   \n",
       "164753           7   4.96875         2      156   \n",
       "164754           1         5         1      309   \n",
       "\n",
       "                                categoria  \n",
       "0                              perfumaria  \n",
       "1                                   artes  \n",
       "2                           esporte_lazer  \n",
       "3                                   bebes  \n",
       "4                   utilidades_domesticas  \n",
       "...                                   ...  \n",
       "164750                   moveis_decoracao  \n",
       "164751  construcao_ferramentas_iluminacao  \n",
       "164752                    cama_mesa_banho  \n",
       "164753             informatica_acessorios  \n",
       "164754                    cama_mesa_banho  \n",
       "\n",
       "[164755 rows x 9 columns]"
      ]
     },
     "execution_count": 20,
     "metadata": {},
     "output_type": "execute_result"
    }
   ],
   "source": [
    "df"
   ]
  },
  {
   "cell_type": "code",
   "execution_count": 24,
   "metadata": {},
   "outputs": [],
   "source": [
    "df.to_csv(\"dados_v1.csv\", index=None)"
   ]
  },
  {
   "cell_type": "markdown",
   "metadata": {},
   "source": [
    "## Observações"
   ]
  },
  {
   "cell_type": "markdown",
   "metadata": {},
   "source": [
    "+ Todos pedidos tem pelo menos uma avaliacao"
   ]
  },
  {
   "cell_type": "markdown",
   "metadata": {},
   "source": [
    "+ Exemplo de pedido que nao tem produto associado - hipotese: Cancelaram a compra"
   ]
  },
  {
   "cell_type": "code",
   "execution_count": 21,
   "metadata": {},
   "outputs": [
    {
     "name": "stdout",
     "output_type": "stream",
     "text": [
      "None\n"
     ]
    },
    {
     "data": {
      "text/html": [
       "<div>\n",
       "<style scoped>\n",
       "    .dataframe tbody tr th:only-of-type {\n",
       "        vertical-align: middle;\n",
       "    }\n",
       "\n",
       "    .dataframe tbody tr th {\n",
       "        vertical-align: top;\n",
       "    }\n",
       "\n",
       "    .dataframe thead th {\n",
       "        text-align: right;\n",
       "    }\n",
       "</style>\n",
       "<table border=\"1\" class=\"dataframe\">\n",
       "  <thead>\n",
       "    <tr style=\"text-align: right;\">\n",
       "      <th></th>\n",
       "      <th>review_id</th>\n",
       "      <th>order_id</th>\n",
       "      <th>review_score</th>\n",
       "      <th>review_comment_title</th>\n",
       "      <th>review_comment_message</th>\n",
       "      <th>review_creation_date</th>\n",
       "      <th>review_answer_timestamp</th>\n",
       "    </tr>\n",
       "  </thead>\n",
       "  <tbody>\n",
       "    <tr>\n",
       "      <th>307</th>\n",
       "      <td>6280ca6a9e8c3a56b668ec8c5396caaf</td>\n",
       "      <td>534a0fbe91a806a1dc6bf09b497e3d6f</td>\n",
       "      <td>1</td>\n",
       "      <td>NaN</td>\n",
       "      <td>Passou dos dias previstos.</td>\n",
       "      <td>2018-02-09 00:00:00</td>\n",
       "      <td>2018-02-14 04:13:49</td>\n",
       "    </tr>\n",
       "  </tbody>\n",
       "</table>\n",
       "</div>"
      ],
      "text/plain": [
       "                            review_id                          order_id  \\\n",
       "307  6280ca6a9e8c3a56b668ec8c5396caaf  534a0fbe91a806a1dc6bf09b497e3d6f   \n",
       "\n",
       "     review_score review_comment_title      review_comment_message  \\\n",
       "307             1                  NaN  Passou dos dias previstos.   \n",
       "\n",
       "    review_creation_date review_answer_timestamp  \n",
       "307  2018-02-09 00:00:00     2018-02-14 04:13:49  "
      ]
     },
     "execution_count": 21,
     "metadata": {},
     "output_type": "execute_result"
    }
   ],
   "source": [
    "print(orderId_productId.get('534a0fbe91a806a1dc6bf09b497e3d6f'))\n",
    "df_reviews.loc[df_reviews['order_id'] == \"534a0fbe91a806a1dc6bf09b497e3d6f\"] #existe avaliacao associada a pedido"
   ]
  },
  {
   "cell_type": "code",
   "execution_count": 22,
   "metadata": {},
   "outputs": [
    {
     "data": {
      "text/html": [
       "<div>\n",
       "<style scoped>\n",
       "    .dataframe tbody tr th:only-of-type {\n",
       "        vertical-align: middle;\n",
       "    }\n",
       "\n",
       "    .dataframe tbody tr th {\n",
       "        vertical-align: top;\n",
       "    }\n",
       "\n",
       "    .dataframe thead th {\n",
       "        text-align: right;\n",
       "    }\n",
       "</style>\n",
       "<table border=\"1\" class=\"dataframe\">\n",
       "  <thead>\n",
       "    <tr style=\"text-align: right;\">\n",
       "      <th></th>\n",
       "      <th>order_id</th>\n",
       "      <th>order_item_id</th>\n",
       "      <th>product_id</th>\n",
       "      <th>seller_id</th>\n",
       "      <th>shipping_limit_date</th>\n",
       "      <th>price</th>\n",
       "      <th>freight_value</th>\n",
       "    </tr>\n",
       "  </thead>\n",
       "  <tbody>\n",
       "  </tbody>\n",
       "</table>\n",
       "</div>"
      ],
      "text/plain": [
       "Empty DataFrame\n",
       "Columns: [order_id, order_item_id, product_id, seller_id, shipping_limit_date, price, freight_value]\n",
       "Index: []"
      ]
     },
     "execution_count": 22,
     "metadata": {},
     "output_type": "execute_result"
    }
   ],
   "source": [
    "df_order_items.loc[df_order_items['order_id'] == \"534a0fbe91a806a1dc6bf09b497e3d6f\"] #nao existe produto associado ao pedido"
   ]
  },
  {
   "cell_type": "markdown",
   "metadata": {},
   "source": [
    "## Visualizações"
   ]
  },
  {
   "cell_type": "code",
   "execution_count": 23,
   "metadata": {},
   "outputs": [
    {
     "data": {
      "application/vnd.plotly.v1+json": {
       "config": {
        "plotlyServerURL": "https://plot.ly"
       },
       "data": [
        {
         "hovertemplate": "Pedidos=%{x}<br>Avaliações=%{y}<extra></extra>",
         "legendgroup": "",
         "marker": {
          "color": "#636efa",
          "symbol": "circle"
         },
         "mode": "markers",
         "name": "",
         "orientation": "v",
         "showlegend": false,
         "type": "scatter",
         "x": [
          551,
          4,
          98886
         ],
         "xaxis": "x",
         "y": [
          2,
          3,
          1
         ],
         "yaxis": "y"
        }
       ],
       "layout": {
        "legend": {
         "tracegroupgap": 0
        },
        "template": {
         "data": {
          "bar": [
           {
            "error_x": {
             "color": "#2a3f5f"
            },
            "error_y": {
             "color": "#2a3f5f"
            },
            "marker": {
             "line": {
              "color": "#E5ECF6",
              "width": 0.5
             },
             "pattern": {
              "fillmode": "overlay",
              "size": 10,
              "solidity": 0.2
             }
            },
            "type": "bar"
           }
          ],
          "barpolar": [
           {
            "marker": {
             "line": {
              "color": "#E5ECF6",
              "width": 0.5
             },
             "pattern": {
              "fillmode": "overlay",
              "size": 10,
              "solidity": 0.2
             }
            },
            "type": "barpolar"
           }
          ],
          "carpet": [
           {
            "aaxis": {
             "endlinecolor": "#2a3f5f",
             "gridcolor": "white",
             "linecolor": "white",
             "minorgridcolor": "white",
             "startlinecolor": "#2a3f5f"
            },
            "baxis": {
             "endlinecolor": "#2a3f5f",
             "gridcolor": "white",
             "linecolor": "white",
             "minorgridcolor": "white",
             "startlinecolor": "#2a3f5f"
            },
            "type": "carpet"
           }
          ],
          "choropleth": [
           {
            "colorbar": {
             "outlinewidth": 0,
             "ticks": ""
            },
            "type": "choropleth"
           }
          ],
          "contour": [
           {
            "colorbar": {
             "outlinewidth": 0,
             "ticks": ""
            },
            "colorscale": [
             [
              0,
              "#0d0887"
             ],
             [
              0.1111111111111111,
              "#46039f"
             ],
             [
              0.2222222222222222,
              "#7201a8"
             ],
             [
              0.3333333333333333,
              "#9c179e"
             ],
             [
              0.4444444444444444,
              "#bd3786"
             ],
             [
              0.5555555555555556,
              "#d8576b"
             ],
             [
              0.6666666666666666,
              "#ed7953"
             ],
             [
              0.7777777777777778,
              "#fb9f3a"
             ],
             [
              0.8888888888888888,
              "#fdca26"
             ],
             [
              1,
              "#f0f921"
             ]
            ],
            "type": "contour"
           }
          ],
          "contourcarpet": [
           {
            "colorbar": {
             "outlinewidth": 0,
             "ticks": ""
            },
            "type": "contourcarpet"
           }
          ],
          "heatmap": [
           {
            "colorbar": {
             "outlinewidth": 0,
             "ticks": ""
            },
            "colorscale": [
             [
              0,
              "#0d0887"
             ],
             [
              0.1111111111111111,
              "#46039f"
             ],
             [
              0.2222222222222222,
              "#7201a8"
             ],
             [
              0.3333333333333333,
              "#9c179e"
             ],
             [
              0.4444444444444444,
              "#bd3786"
             ],
             [
              0.5555555555555556,
              "#d8576b"
             ],
             [
              0.6666666666666666,
              "#ed7953"
             ],
             [
              0.7777777777777778,
              "#fb9f3a"
             ],
             [
              0.8888888888888888,
              "#fdca26"
             ],
             [
              1,
              "#f0f921"
             ]
            ],
            "type": "heatmap"
           }
          ],
          "heatmapgl": [
           {
            "colorbar": {
             "outlinewidth": 0,
             "ticks": ""
            },
            "colorscale": [
             [
              0,
              "#0d0887"
             ],
             [
              0.1111111111111111,
              "#46039f"
             ],
             [
              0.2222222222222222,
              "#7201a8"
             ],
             [
              0.3333333333333333,
              "#9c179e"
             ],
             [
              0.4444444444444444,
              "#bd3786"
             ],
             [
              0.5555555555555556,
              "#d8576b"
             ],
             [
              0.6666666666666666,
              "#ed7953"
             ],
             [
              0.7777777777777778,
              "#fb9f3a"
             ],
             [
              0.8888888888888888,
              "#fdca26"
             ],
             [
              1,
              "#f0f921"
             ]
            ],
            "type": "heatmapgl"
           }
          ],
          "histogram": [
           {
            "marker": {
             "pattern": {
              "fillmode": "overlay",
              "size": 10,
              "solidity": 0.2
             }
            },
            "type": "histogram"
           }
          ],
          "histogram2d": [
           {
            "colorbar": {
             "outlinewidth": 0,
             "ticks": ""
            },
            "colorscale": [
             [
              0,
              "#0d0887"
             ],
             [
              0.1111111111111111,
              "#46039f"
             ],
             [
              0.2222222222222222,
              "#7201a8"
             ],
             [
              0.3333333333333333,
              "#9c179e"
             ],
             [
              0.4444444444444444,
              "#bd3786"
             ],
             [
              0.5555555555555556,
              "#d8576b"
             ],
             [
              0.6666666666666666,
              "#ed7953"
             ],
             [
              0.7777777777777778,
              "#fb9f3a"
             ],
             [
              0.8888888888888888,
              "#fdca26"
             ],
             [
              1,
              "#f0f921"
             ]
            ],
            "type": "histogram2d"
           }
          ],
          "histogram2dcontour": [
           {
            "colorbar": {
             "outlinewidth": 0,
             "ticks": ""
            },
            "colorscale": [
             [
              0,
              "#0d0887"
             ],
             [
              0.1111111111111111,
              "#46039f"
             ],
             [
              0.2222222222222222,
              "#7201a8"
             ],
             [
              0.3333333333333333,
              "#9c179e"
             ],
             [
              0.4444444444444444,
              "#bd3786"
             ],
             [
              0.5555555555555556,
              "#d8576b"
             ],
             [
              0.6666666666666666,
              "#ed7953"
             ],
             [
              0.7777777777777778,
              "#fb9f3a"
             ],
             [
              0.8888888888888888,
              "#fdca26"
             ],
             [
              1,
              "#f0f921"
             ]
            ],
            "type": "histogram2dcontour"
           }
          ],
          "mesh3d": [
           {
            "colorbar": {
             "outlinewidth": 0,
             "ticks": ""
            },
            "type": "mesh3d"
           }
          ],
          "parcoords": [
           {
            "line": {
             "colorbar": {
              "outlinewidth": 0,
              "ticks": ""
             }
            },
            "type": "parcoords"
           }
          ],
          "pie": [
           {
            "automargin": true,
            "type": "pie"
           }
          ],
          "scatter": [
           {
            "marker": {
             "colorbar": {
              "outlinewidth": 0,
              "ticks": ""
             }
            },
            "type": "scatter"
           }
          ],
          "scatter3d": [
           {
            "line": {
             "colorbar": {
              "outlinewidth": 0,
              "ticks": ""
             }
            },
            "marker": {
             "colorbar": {
              "outlinewidth": 0,
              "ticks": ""
             }
            },
            "type": "scatter3d"
           }
          ],
          "scattercarpet": [
           {
            "marker": {
             "colorbar": {
              "outlinewidth": 0,
              "ticks": ""
             }
            },
            "type": "scattercarpet"
           }
          ],
          "scattergeo": [
           {
            "marker": {
             "colorbar": {
              "outlinewidth": 0,
              "ticks": ""
             }
            },
            "type": "scattergeo"
           }
          ],
          "scattergl": [
           {
            "marker": {
             "colorbar": {
              "outlinewidth": 0,
              "ticks": ""
             }
            },
            "type": "scattergl"
           }
          ],
          "scattermapbox": [
           {
            "marker": {
             "colorbar": {
              "outlinewidth": 0,
              "ticks": ""
             }
            },
            "type": "scattermapbox"
           }
          ],
          "scatterpolar": [
           {
            "marker": {
             "colorbar": {
              "outlinewidth": 0,
              "ticks": ""
             }
            },
            "type": "scatterpolar"
           }
          ],
          "scatterpolargl": [
           {
            "marker": {
             "colorbar": {
              "outlinewidth": 0,
              "ticks": ""
             }
            },
            "type": "scatterpolargl"
           }
          ],
          "scatterternary": [
           {
            "marker": {
             "colorbar": {
              "outlinewidth": 0,
              "ticks": ""
             }
            },
            "type": "scatterternary"
           }
          ],
          "surface": [
           {
            "colorbar": {
             "outlinewidth": 0,
             "ticks": ""
            },
            "colorscale": [
             [
              0,
              "#0d0887"
             ],
             [
              0.1111111111111111,
              "#46039f"
             ],
             [
              0.2222222222222222,
              "#7201a8"
             ],
             [
              0.3333333333333333,
              "#9c179e"
             ],
             [
              0.4444444444444444,
              "#bd3786"
             ],
             [
              0.5555555555555556,
              "#d8576b"
             ],
             [
              0.6666666666666666,
              "#ed7953"
             ],
             [
              0.7777777777777778,
              "#fb9f3a"
             ],
             [
              0.8888888888888888,
              "#fdca26"
             ],
             [
              1,
              "#f0f921"
             ]
            ],
            "type": "surface"
           }
          ],
          "table": [
           {
            "cells": {
             "fill": {
              "color": "#EBF0F8"
             },
             "line": {
              "color": "white"
             }
            },
            "header": {
             "fill": {
              "color": "#C8D4E3"
             },
             "line": {
              "color": "white"
             }
            },
            "type": "table"
           }
          ]
         },
         "layout": {
          "annotationdefaults": {
           "arrowcolor": "#2a3f5f",
           "arrowhead": 0,
           "arrowwidth": 1
          },
          "autotypenumbers": "strict",
          "coloraxis": {
           "colorbar": {
            "outlinewidth": 0,
            "ticks": ""
           }
          },
          "colorscale": {
           "diverging": [
            [
             0,
             "#8e0152"
            ],
            [
             0.1,
             "#c51b7d"
            ],
            [
             0.2,
             "#de77ae"
            ],
            [
             0.3,
             "#f1b6da"
            ],
            [
             0.4,
             "#fde0ef"
            ],
            [
             0.5,
             "#f7f7f7"
            ],
            [
             0.6,
             "#e6f5d0"
            ],
            [
             0.7,
             "#b8e186"
            ],
            [
             0.8,
             "#7fbc41"
            ],
            [
             0.9,
             "#4d9221"
            ],
            [
             1,
             "#276419"
            ]
           ],
           "sequential": [
            [
             0,
             "#0d0887"
            ],
            [
             0.1111111111111111,
             "#46039f"
            ],
            [
             0.2222222222222222,
             "#7201a8"
            ],
            [
             0.3333333333333333,
             "#9c179e"
            ],
            [
             0.4444444444444444,
             "#bd3786"
            ],
            [
             0.5555555555555556,
             "#d8576b"
            ],
            [
             0.6666666666666666,
             "#ed7953"
            ],
            [
             0.7777777777777778,
             "#fb9f3a"
            ],
            [
             0.8888888888888888,
             "#fdca26"
            ],
            [
             1,
             "#f0f921"
            ]
           ],
           "sequentialminus": [
            [
             0,
             "#0d0887"
            ],
            [
             0.1111111111111111,
             "#46039f"
            ],
            [
             0.2222222222222222,
             "#7201a8"
            ],
            [
             0.3333333333333333,
             "#9c179e"
            ],
            [
             0.4444444444444444,
             "#bd3786"
            ],
            [
             0.5555555555555556,
             "#d8576b"
            ],
            [
             0.6666666666666666,
             "#ed7953"
            ],
            [
             0.7777777777777778,
             "#fb9f3a"
            ],
            [
             0.8888888888888888,
             "#fdca26"
            ],
            [
             1,
             "#f0f921"
            ]
           ]
          },
          "colorway": [
           "#636efa",
           "#EF553B",
           "#00cc96",
           "#ab63fa",
           "#FFA15A",
           "#19d3f3",
           "#FF6692",
           "#B6E880",
           "#FF97FF",
           "#FECB52"
          ],
          "font": {
           "color": "#2a3f5f"
          },
          "geo": {
           "bgcolor": "white",
           "lakecolor": "white",
           "landcolor": "#E5ECF6",
           "showlakes": true,
           "showland": true,
           "subunitcolor": "white"
          },
          "hoverlabel": {
           "align": "left"
          },
          "hovermode": "closest",
          "mapbox": {
           "style": "light"
          },
          "paper_bgcolor": "white",
          "plot_bgcolor": "#E5ECF6",
          "polar": {
           "angularaxis": {
            "gridcolor": "white",
            "linecolor": "white",
            "ticks": ""
           },
           "bgcolor": "#E5ECF6",
           "radialaxis": {
            "gridcolor": "white",
            "linecolor": "white",
            "ticks": ""
           }
          },
          "scene": {
           "xaxis": {
            "backgroundcolor": "#E5ECF6",
            "gridcolor": "white",
            "gridwidth": 2,
            "linecolor": "white",
            "showbackground": true,
            "ticks": "",
            "zerolinecolor": "white"
           },
           "yaxis": {
            "backgroundcolor": "#E5ECF6",
            "gridcolor": "white",
            "gridwidth": 2,
            "linecolor": "white",
            "showbackground": true,
            "ticks": "",
            "zerolinecolor": "white"
           },
           "zaxis": {
            "backgroundcolor": "#E5ECF6",
            "gridcolor": "white",
            "gridwidth": 2,
            "linecolor": "white",
            "showbackground": true,
            "ticks": "",
            "zerolinecolor": "white"
           }
          },
          "shapedefaults": {
           "line": {
            "color": "#2a3f5f"
           }
          },
          "ternary": {
           "aaxis": {
            "gridcolor": "white",
            "linecolor": "white",
            "ticks": ""
           },
           "baxis": {
            "gridcolor": "white",
            "linecolor": "white",
            "ticks": ""
           },
           "bgcolor": "#E5ECF6",
           "caxis": {
            "gridcolor": "white",
            "linecolor": "white",
            "ticks": ""
           }
          },
          "title": {
           "x": 0.05
          },
          "xaxis": {
           "automargin": true,
           "gridcolor": "white",
           "linecolor": "white",
           "ticks": "",
           "title": {
            "standoff": 15
           },
           "zerolinecolor": "white",
           "zerolinewidth": 2
          },
          "yaxis": {
           "automargin": true,
           "gridcolor": "white",
           "linecolor": "white",
           "ticks": "",
           "title": {
            "standoff": 15
           },
           "zerolinecolor": "white",
           "zerolinewidth": 2
          }
         }
        },
        "title": {
         "text": "Quantidade de avaliações X Pedidos"
        },
        "xaxis": {
         "anchor": "y",
         "domain": [
          0,
          1
         ],
         "title": {
          "text": "Pedidos"
         }
        },
        "yaxis": {
         "anchor": "x",
         "domain": [
          0,
          1
         ],
         "title": {
          "text": "Avaliações"
         }
        }
       }
      }
     },
     "metadata": {},
     "output_type": "display_data"
    },
    {
     "data": {
      "text/html": [
       "<div>\n",
       "<style scoped>\n",
       "    .dataframe tbody tr th:only-of-type {\n",
       "        vertical-align: middle;\n",
       "    }\n",
       "\n",
       "    .dataframe tbody tr th {\n",
       "        vertical-align: top;\n",
       "    }\n",
       "\n",
       "    .dataframe thead th {\n",
       "        text-align: right;\n",
       "    }\n",
       "</style>\n",
       "<table border=\"1\" class=\"dataframe\">\n",
       "  <thead>\n",
       "    <tr style=\"text-align: right;\">\n",
       "      <th></th>\n",
       "      <th>Avaliações</th>\n",
       "      <th>Pedidos</th>\n",
       "    </tr>\n",
       "  </thead>\n",
       "  <tbody>\n",
       "    <tr>\n",
       "      <th>0</th>\n",
       "      <td>2</td>\n",
       "      <td>551</td>\n",
       "    </tr>\n",
       "    <tr>\n",
       "      <th>1</th>\n",
       "      <td>3</td>\n",
       "      <td>4</td>\n",
       "    </tr>\n",
       "    <tr>\n",
       "      <th>2</th>\n",
       "      <td>1</td>\n",
       "      <td>98886</td>\n",
       "    </tr>\n",
       "  </tbody>\n",
       "</table>\n",
       "</div>"
      ],
      "text/plain": [
       "   Avaliações  Pedidos\n",
       "0           2      551\n",
       "1           3        4\n",
       "2           1    98886"
      ]
     },
     "execution_count": 23,
     "metadata": {},
     "output_type": "execute_result"
    }
   ],
   "source": [
    "# grafico: pedidos x qtd de avaliacoes do pedido\n",
    "from collections import Counter\n",
    "import plotly.express as px\n",
    "\n",
    "qtdReviews_orders = Counter(orderIdRepetido+orderIds) #dicionario: chave = order_id, valor = qtd de avaliacoes\n",
    "qtd = Counter(qtdReviews_orders.values()) #dicionario: chave = qtd de avaliacoes, valor = qtd de pedidos\n",
    "\n",
    "\n",
    "df_pedidos_avaliacoes = pd.DataFrame(columns=[\"Avaliações\", 'Pedidos'])\n",
    "df_pedidos_avaliacoes['Pedidos'] = qtd.values()\n",
    "df_pedidos_avaliacoes['Avaliações'] = qtd.keys()\n",
    "fig = px.scatter(df_pedidos_avaliacoes, y=\"Avaliações\", x=\"Pedidos\", title=\"Quantidade de avaliações X Pedidos\")\n",
    "fig.show()\n",
    "df_pedidos_avaliacoes"
   ]
  }
 ],
 "metadata": {
  "interpreter": {
   "hash": "9cf3e62341bd4183173a1159c47c02bb03d818f88413248385459adf80d3bee4"
  },
  "kernelspec": {
   "display_name": "Python 3.8.5 64-bit ('base': conda)",
   "language": "python",
   "name": "python3"
  },
  "language_info": {
   "codemirror_mode": {
    "name": "ipython",
    "version": 3
   },
   "file_extension": ".py",
   "mimetype": "text/x-python",
   "name": "python",
   "nbconvert_exporter": "python",
   "pygments_lexer": "ipython3",
   "version": "3.8.5"
  },
  "orig_nbformat": 4
 },
 "nbformat": 4,
 "nbformat_minor": 2
}
